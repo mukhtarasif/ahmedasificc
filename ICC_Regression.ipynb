{
 "cells": [
  {
   "cell_type": "markdown",
   "id": "4e705e25",
   "metadata": {},
   "source": [
    "# ICC Men's Cricket Tournaments Regression Analysis\n",
    "\n",
    "This notebook performs regression analysis on the ICC Men's Cricket Tournaments dataset."
   ]
  },
  {
   "cell_type": "code",
   "execution_count": 14,
   "id": "3f63ec02",
   "metadata": {},
   "outputs": [
    {
     "data": {
      "text/html": [
       "<div>\n",
       "<style scoped>\n",
       "    .dataframe tbody tr th:only-of-type {\n",
       "        vertical-align: middle;\n",
       "    }\n",
       "\n",
       "    .dataframe tbody tr th {\n",
       "        vertical-align: top;\n",
       "    }\n",
       "\n",
       "    .dataframe thead th {\n",
       "        text-align: right;\n",
       "    }\n",
       "</style>\n",
       "<table border=\"1\" class=\"dataframe\">\n",
       "  <thead>\n",
       "    <tr style=\"text-align: right;\">\n",
       "      <th></th>\n",
       "      <th>Sl No.</th>\n",
       "      <th>Year</th>\n",
       "      <th>ICC Event</th>\n",
       "      <th>Host(s)</th>\n",
       "      <th>Final venue</th>\n",
       "      <th>Winners</th>\n",
       "      <th>Result</th>\n",
       "      <th>Scoreccard</th>\n",
       "      <th>Runner-up</th>\n",
       "      <th>Winning Captain</th>\n",
       "      <th>Total Teams</th>\n",
       "    </tr>\n",
       "  </thead>\n",
       "  <tbody>\n",
       "    <tr>\n",
       "      <th>0</th>\n",
       "      <td>1</td>\n",
       "      <td>1975</td>\n",
       "      <td>World Cup</td>\n",
       "      <td>England</td>\n",
       "      <td>Lord's, London</td>\n",
       "      <td>West Indies</td>\n",
       "      <td>West Indies won by 17 runs</td>\n",
       "      <td>WI: 291/8 (60 overs)\\nAUS: 274 all out (58.4 o...</td>\n",
       "      <td>Australia</td>\n",
       "      <td>Clive Lloyd</td>\n",
       "      <td>8</td>\n",
       "    </tr>\n",
       "    <tr>\n",
       "      <th>1</th>\n",
       "      <td>2</td>\n",
       "      <td>1979</td>\n",
       "      <td>World Cup</td>\n",
       "      <td>England</td>\n",
       "      <td>Lord's, London</td>\n",
       "      <td>West Indies</td>\n",
       "      <td>West Indies won by 92 runs</td>\n",
       "      <td>WI: 286/9 (60 overs)\\nENG: 194 all out (51 overs)</td>\n",
       "      <td>England</td>\n",
       "      <td>Clive Lloyd</td>\n",
       "      <td>8</td>\n",
       "    </tr>\n",
       "    <tr>\n",
       "      <th>2</th>\n",
       "      <td>3</td>\n",
       "      <td>1983</td>\n",
       "      <td>World Cup</td>\n",
       "      <td>England &amp; Wales</td>\n",
       "      <td>Lord's, London</td>\n",
       "      <td>India</td>\n",
       "      <td>India won by 43 runs</td>\n",
       "      <td>IND: 183 all out (54.4 overs)\\nWI: 140 all out...</td>\n",
       "      <td>West Indies</td>\n",
       "      <td>Kapil Dev</td>\n",
       "      <td>8</td>\n",
       "    </tr>\n",
       "    <tr>\n",
       "      <th>3</th>\n",
       "      <td>4</td>\n",
       "      <td>1987</td>\n",
       "      <td>World Cup</td>\n",
       "      <td>India &amp; Pakistan</td>\n",
       "      <td>Eden Gardens, Kolkata</td>\n",
       "      <td>Australia</td>\n",
       "      <td>Australia won by 7 runs</td>\n",
       "      <td>AUS: 253/5 (50 overs)\\nENG: 246/8 (50 overs)</td>\n",
       "      <td>England</td>\n",
       "      <td>Allan Border</td>\n",
       "      <td>8</td>\n",
       "    </tr>\n",
       "    <tr>\n",
       "      <th>4</th>\n",
       "      <td>5</td>\n",
       "      <td>1992</td>\n",
       "      <td>World Cup</td>\n",
       "      <td>Australia &amp;  New Zealand</td>\n",
       "      <td>Melbourne Cricket Ground, Melbourne</td>\n",
       "      <td>Pakistan</td>\n",
       "      <td>Pakistan won by 22 runs</td>\n",
       "      <td>PAK: 249/6 (50 overs)\\nENG: 227 all out (49.2 ...</td>\n",
       "      <td>England</td>\n",
       "      <td>Imran Khan</td>\n",
       "      <td>9</td>\n",
       "    </tr>\n",
       "  </tbody>\n",
       "</table>\n",
       "</div>"
      ],
      "text/plain": [
       "   Sl No.  Year  ICC Event                   Host(s)  \\\n",
       "0       1  1975  World Cup                   England   \n",
       "1       2  1979  World Cup                   England   \n",
       "2       3  1983  World Cup           England & Wales   \n",
       "3       4  1987  World Cup          India & Pakistan   \n",
       "4       5  1992  World Cup  Australia &  New Zealand   \n",
       "\n",
       "                           Final venue      Winners  \\\n",
       "0                       Lord's, London  West Indies   \n",
       "1                       Lord's, London  West Indies   \n",
       "2                       Lord's, London        India   \n",
       "3                Eden Gardens, Kolkata    Australia   \n",
       "4  Melbourne Cricket Ground, Melbourne     Pakistan   \n",
       "\n",
       "                       Result  \\\n",
       "0  West Indies won by 17 runs   \n",
       "1  West Indies won by 92 runs   \n",
       "2        India won by 43 runs   \n",
       "3     Australia won by 7 runs   \n",
       "4     Pakistan won by 22 runs   \n",
       "\n",
       "                                          Scoreccard    Runner-up  \\\n",
       "0  WI: 291/8 (60 overs)\\nAUS: 274 all out (58.4 o...    Australia   \n",
       "1  WI: 286/9 (60 overs)\\nENG: 194 all out (51 overs)      England   \n",
       "2  IND: 183 all out (54.4 overs)\\nWI: 140 all out...  West Indies   \n",
       "3       AUS: 253/5 (50 overs)\\nENG: 246/8 (50 overs)      England   \n",
       "4  PAK: 249/6 (50 overs)\\nENG: 227 all out (49.2 ...      England   \n",
       "\n",
       "  Winning Captain  Total Teams  \n",
       "0     Clive Lloyd            8  \n",
       "1     Clive Lloyd            8  \n",
       "2       Kapil Dev            8  \n",
       "3    Allan Border            8  \n",
       "4      Imran Khan            9  "
      ]
     },
     "execution_count": 14,
     "metadata": {},
     "output_type": "execute_result"
    }
   ],
   "source": [
    "\n",
    "import pandas as pd\n",
    "import numpy as np\n",
    "import matplotlib.pyplot as plt\n",
    "import seaborn as sns\n",
    "from sklearn.model_selection import train_test_split\n",
    "from sklearn.preprocessing import LabelEncoder\n",
    "from sklearn.linear_model import LinearRegression\n",
    "from sklearn.metrics import mean_absolute_error, mean_squared_error, r2_score\n",
    "\n",
    "# Load the dataset\n",
    "df = pd.read_csv(\"ICC Men Cricket Tournaments.csv\")\n",
    "\n",
    "# Display the first few rows\n",
    "df.head()\n"
   ]
  },
  {
   "cell_type": "code",
   "execution_count": 16,
   "id": "01009b2f",
   "metadata": {},
   "outputs": [
    {
     "data": {
      "text/plain": [
       "Sl No.             30\n",
       "Year               28\n",
       "ICC Event           3\n",
       "Host(s)            20\n",
       "Final venue        23\n",
       "Winners             8\n",
       "Result             27\n",
       "Scoreccard         30\n",
       "Runner-up           8\n",
       "Winning Captain    23\n",
       "Total Teams         8\n",
       "dtype: int64"
      ]
     },
     "execution_count": 16,
     "metadata": {},
     "output_type": "execute_result"
    }
   ],
   "source": [
    "\n",
    "# Display dataset information\n",
    "df.info \n",
    "\n",
    "# Check for missing values\n",
    "df.isnull().sum()\n",
    "\n",
    "# Unique values in categorical columns\n",
    "df.nunique()\n"
   ]
  },
  {
   "cell_type": "code",
   "execution_count": 18,
   "id": "862f012d",
   "metadata": {},
   "outputs": [
    {
     "data": {
      "text/plain": [
       "((24, 5), (6, 5), (24,), (6,))"
      ]
     },
     "execution_count": 18,
     "metadata": {},
     "output_type": "execute_result"
    }
   ],
   "source": [
    "\n",
    "# Encode categorical features using Label Encoding\n",
    "label_encoders = {}\n",
    "categorical_columns = ['ICC Event', 'Host(s)', 'Final venue', 'Winners', 'Runner-up', 'Winning Captain']\n",
    "\n",
    "for col in categorical_columns:\n",
    "    le = LabelEncoder()\n",
    "    df[col] = le.fit_transform(df[col])\n",
    "    label_encoders[col] = le\n",
    "\n",
    "# Select features and target variable (Predicting Total Teams based on other variables)\n",
    "X = df[['Year', 'Host(s)', 'Final venue', 'Runner-up', 'Winning Captain']]\n",
    "y = df['Total Teams']\n",
    "\n",
    "# Split the dataset into training and testing sets\n",
    "X_train, X_test, y_train, y_test = train_test_split(X, y, test_size=0.2, random_state=42)\n",
    "\n",
    "# Display the shape of training and testing sets\n",
    "X_train.shape, X_test.shape, y_train.shape, y_test.shape\n"
   ]
  },
  {
   "cell_type": "code",
   "execution_count": 20,
   "id": "5151672f",
   "metadata": {},
   "outputs": [],
   "source": [
    "\n",
    "# Train a Linear Regression Model\n",
    "regressor = LinearRegression()\n",
    "regressor.fit(X_train, y_train)\n",
    "\n",
    "# Predict on the test set\n",
    "y_pred = regressor.predict(X_test)\n"
   ]
  },
  {
   "cell_type": "code",
   "execution_count": 22,
   "id": "51a2be76",
   "metadata": {},
   "outputs": [
    {
     "name": "stdout",
     "output_type": "stream",
     "text": [
      "Mean Absolute Error: 1.73\n",
      "Mean Squared Error: 5.73\n",
      "R-squared Score: -0.39\n"
     ]
    },
    {
     "data": {
      "image/png": "[encoded data removed]",
      "text/plain": [
       "<Figure size 800x600 with 1 Axes>"
      ]
     },
     "metadata": {},
     "output_type": "display_data"
    }
   ],
   "source": [
    "\n",
    "# Evaluate the model\n",
    "mae = mean_absolute_error(y_test, y_pred)\n",
    "mse = mean_squared_error(y_test, y_pred)\n",
    "r2 = r2_score(y_test, y_pred)\n",
    "\n",
    "print(f\"Mean Absolute Error: {mae:.2f}\")\n",
    "print(f\"Mean Squared Error: {mse:.2f}\")\n",
    "print(f\"R-squared Score: {r2:.2f}\")\n",
    "\n",
    "# Plot actual vs predicted values\n",
    "plt.figure(figsize=(8,6))\n",
    "plt.scatter(y_test, y_pred, color='blue', alpha=0.6)\n",
    "plt.plot(y_test, y_test, color='red', linestyle='dashed')  # Ideal line\n",
    "plt.xlabel(\"Actual Total Teams\")\n",
    "plt.ylabel(\"Predicted Total Teams\")\n",
    "plt.title(\"Actual vs Predicted Values\")\n",
    "plt.show()\n"
   ]
  },
  {
   "cell_type": "code",
   "execution_count": null,
   "id": "c2c58e22-7a29-4b39-b0af-47045b94b55b",
   "metadata": {},
   "outputs": [],
   "source": []
  },
  {
   "cell_type": "code",
   "execution_count": null,
   "id": "0f17fb52-291b-4b40-96f5-9eea18aabf0b",
   "metadata": {},
   "outputs": [],
   "source": []
  },
  {
   "cell_type": "code",
   "execution_count": null,
   "id": "cb83df63-12ab-4a58-acf2-20148050186d",
   "metadata": {},
   "outputs": [],
   "source": []
  },
  {
   "cell_type": "code",
   "execution_count": null,
   "id": "9c7bc28c-85eb-4cfb-a240-0efd745b2d89",
   "metadata": {},
   "outputs": [],
   "source": []
  }
 ],
 "metadata": {
  "kernelspec": {
   "display_name": "Python 3 (ipykernel)",
   "language": "python",
   "name": "python3"
  },
  "language_info": {
   "codemirror_mode": {
    "name": "ipython",
    "version": 3
   },
   "file_extension": ".py",
   "mimetype": "text/x-python",
   "name": "python",
   "nbconvert_exporter": "python",
   "pygments_lexer": "ipython3",
   "version": "3.12.4"
  }
 },
 "nbformat": 4,
 "nbformat_minor": 5
}
