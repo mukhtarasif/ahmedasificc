{
 "cells": [
  {
   "cell_type": "markdown",
   "id": "a15e147c",
   "metadata": {},
   "source": [
    "# ICC Men's Cricket Tournaments Classification\n",
    "\n",
    "This notebook performs classification on the ICC Men's Cricket Tournaments dataset."
   ]
  },
  {
   "cell_type": "code",
   "execution_count": 1,
   "id": "eaa9f84f",
   "metadata": {},
   "outputs": [
    {
     "data": {
      "text/html": [
       "<div>\n",
       "<style scoped>\n",
       "    .dataframe tbody tr th:only-of-type {\n",
       "        vertical-align: middle;\n",
       "    }\n",
       "\n",
       "    .dataframe tbody tr th {\n",
       "        vertical-align: top;\n",
       "    }\n",
       "\n",
       "    .dataframe thead th {\n",
       "        text-align: right;\n",
       "    }\n",
       "</style>\n",
       "<table border=\"1\" class=\"dataframe\">\n",
       "  <thead>\n",
       "    <tr style=\"text-align: right;\">\n",
       "      <th></th>\n",
       "      <th>Sl No.</th>\n",
       "      <th>Year</th>\n",
       "      <th>ICC Event</th>\n",
       "      <th>Host(s)</th>\n",
       "      <th>Final venue</th>\n",
       "      <th>Winners</th>\n",
       "      <th>Result</th>\n",
       "      <th>Scoreccard</th>\n",
       "      <th>Runner-up</th>\n",
       "      <th>Winning Captain</th>\n",
       "      <th>Total Teams</th>\n",
       "    </tr>\n",
       "  </thead>\n",
       "  <tbody>\n",
       "    <tr>\n",
       "      <th>0</th>\n",
       "      <td>1</td>\n",
       "      <td>1975</td>\n",
       "      <td>World Cup</td>\n",
       "      <td>England</td>\n",
       "      <td>Lord's, London</td>\n",
       "      <td>West Indies</td>\n",
       "      <td>West Indies won by 17 runs</td>\n",
       "      <td>WI: 291/8 (60 overs)\\nAUS: 274 all out (58.4 o...</td>\n",
       "      <td>Australia</td>\n",
       "      <td>Clive Lloyd</td>\n",
       "      <td>8</td>\n",
       "    </tr>\n",
       "    <tr>\n",
       "      <th>1</th>\n",
       "      <td>2</td>\n",
       "      <td>1979</td>\n",
       "      <td>World Cup</td>\n",
       "      <td>England</td>\n",
       "      <td>Lord's, London</td>\n",
       "      <td>West Indies</td>\n",
       "      <td>West Indies won by 92 runs</td>\n",
       "      <td>WI: 286/9 (60 overs)\\nENG: 194 all out (51 overs)</td>\n",
       "      <td>England</td>\n",
       "      <td>Clive Lloyd</td>\n",
       "      <td>8</td>\n",
       "    </tr>\n",
       "    <tr>\n",
       "      <th>2</th>\n",
       "      <td>3</td>\n",
       "      <td>1983</td>\n",
       "      <td>World Cup</td>\n",
       "      <td>England &amp; Wales</td>\n",
       "      <td>Lord's, London</td>\n",
       "      <td>India</td>\n",
       "      <td>India won by 43 runs</td>\n",
       "      <td>IND: 183 all out (54.4 overs)\\nWI: 140 all out...</td>\n",
       "      <td>West Indies</td>\n",
       "      <td>Kapil Dev</td>\n",
       "      <td>8</td>\n",
       "    </tr>\n",
       "    <tr>\n",
       "      <th>3</th>\n",
       "      <td>4</td>\n",
       "      <td>1987</td>\n",
       "      <td>World Cup</td>\n",
       "      <td>India &amp; Pakistan</td>\n",
       "      <td>Eden Gardens, Kolkata</td>\n",
       "      <td>Australia</td>\n",
       "      <td>Australia won by 7 runs</td>\n",
       "      <td>AUS: 253/5 (50 overs)\\nENG: 246/8 (50 overs)</td>\n",
       "      <td>England</td>\n",
       "      <td>Allan Border</td>\n",
       "      <td>8</td>\n",
       "    </tr>\n",
       "    <tr>\n",
       "      <th>4</th>\n",
       "      <td>5</td>\n",
       "      <td>1992</td>\n",
       "      <td>World Cup</td>\n",
       "      <td>Australia &amp;  New Zealand</td>\n",
       "      <td>Melbourne Cricket Ground, Melbourne</td>\n",
       "      <td>Pakistan</td>\n",
       "      <td>Pakistan won by 22 runs</td>\n",
       "      <td>PAK: 249/6 (50 overs)\\nENG: 227 all out (49.2 ...</td>\n",
       "      <td>England</td>\n",
       "      <td>Imran Khan</td>\n",
       "      <td>9</td>\n",
       "    </tr>\n",
       "  </tbody>\n",
       "</table>\n",
       "</div>"
      ],
      "text/plain": [
       "   Sl No.  Year  ICC Event                   Host(s)  \\\n",
       "0       1  1975  World Cup                   England   \n",
       "1       2  1979  World Cup                   England   \n",
       "2       3  1983  World Cup           England & Wales   \n",
       "3       4  1987  World Cup          India & Pakistan   \n",
       "4       5  1992  World Cup  Australia &  New Zealand   \n",
       "\n",
       "                           Final venue      Winners  \\\n",
       "0                       Lord's, London  West Indies   \n",
       "1                       Lord's, London  West Indies   \n",
       "2                       Lord's, London        India   \n",
       "3                Eden Gardens, Kolkata    Australia   \n",
       "4  Melbourne Cricket Ground, Melbourne     Pakistan   \n",
       "\n",
       "                       Result  \\\n",
       "0  West Indies won by 17 runs   \n",
       "1  West Indies won by 92 runs   \n",
       "2        India won by 43 runs   \n",
       "3     Australia won by 7 runs   \n",
       "4     Pakistan won by 22 runs   \n",
       "\n",
       "                                          Scoreccard    Runner-up  \\\n",
       "0  WI: 291/8 (60 overs)\\nAUS: 274 all out (58.4 o...    Australia   \n",
       "1  WI: 286/9 (60 overs)\\nENG: 194 all out (51 overs)      England   \n",
       "2  IND: 183 all out (54.4 overs)\\nWI: 140 all out...  West Indies   \n",
       "3       AUS: 253/5 (50 overs)\\nENG: 246/8 (50 overs)      England   \n",
       "4  PAK: 249/6 (50 overs)\\nENG: 227 all out (49.2 ...      England   \n",
       "\n",
       "  Winning Captain  Total Teams  \n",
       "0     Clive Lloyd            8  \n",
       "1     Clive Lloyd            8  \n",
       "2       Kapil Dev            8  \n",
       "3    Allan Border            8  \n",
       "4      Imran Khan            9  "
      ]
     },
     "execution_count": 1,
     "metadata": {},
     "output_type": "execute_result"
    }
   ],
   "source": [
    "\n",
    "import pandas as pd\n",
    "import numpy as np\n",
    "import matplotlib.pyplot as plt\n",
    "import seaborn as sns\n",
    "from sklearn.model_selection import train_test_split\n",
    "from sklearn.preprocessing import LabelEncoder\n",
    "from sklearn.ensemble import RandomForestClassifier\n",
    "from sklearn.metrics import accuracy_score, classification_report, confusion_matrix\n",
    "\n",
    "# Load the dataset\n",
    "df = pd.read_csv(\"ICC Men Cricket Tournaments.csv\")\n",
    "\n",
    "# Display the first few rows\n",
    "df.head()\n"
   ]
  },
  {
   "cell_type": "code",
   "execution_count": 2,
   "id": "1bf5e15c",
   "metadata": {},
   "outputs": [
    {
     "name": "stdout",
     "output_type": "stream",
     "text": [
      "<class 'pandas.core.frame.DataFrame'>\n",
      "RangeIndex: 30 entries, 0 to 29\n",
      "Data columns (total 11 columns):\n",
      " #   Column           Non-Null Count  Dtype \n",
      "---  ------           --------------  ----- \n",
      " 0   Sl No.           30 non-null     int64 \n",
      " 1   Year             30 non-null     int64 \n",
      " 2   ICC Event        30 non-null     object\n",
      " 3   Host(s)          30 non-null     object\n",
      " 4   Final venue      30 non-null     object\n",
      " 5   Winners          30 non-null     object\n",
      " 6   Result           30 non-null     object\n",
      " 7   Scoreccard       30 non-null     object\n",
      " 8   Runner-up        29 non-null     object\n",
      " 9   Winning Captain  30 non-null     object\n",
      " 10  Total Teams      30 non-null     int64 \n",
      "dtypes: int64(3), object(8)\n",
      "memory usage: 2.7+ KB\n"
     ]
    },
    {
     "data": {
      "text/plain": [
       "Sl No.             30\n",
       "Year               28\n",
       "ICC Event           3\n",
       "Host(s)            20\n",
       "Final venue        23\n",
       "Winners             8\n",
       "Result             27\n",
       "Scoreccard         30\n",
       "Runner-up           8\n",
       "Winning Captain    23\n",
       "Total Teams         8\n",
       "dtype: int64"
      ]
     },
     "execution_count": 2,
     "metadata": {},
     "output_type": "execute_result"
    }
   ],
   "source": [
    "\n",
    "# Display dataset information\n",
    "df.info()\n",
    "\n",
    "# Check for missing values\n",
    "df.isnull().sum()\n",
    "\n",
    "# Unique values in categorical columns\n",
    "df.nunique()\n"
   ]
  },
  {
   "cell_type": "code",
   "execution_count": 3,
   "id": "467fce3e",
   "metadata": {},
   "outputs": [
    {
     "data": {
      "text/plain": [
       "((24, 6), (6, 6), (24,), (6,))"
      ]
     },
     "execution_count": 3,
     "metadata": {},
     "output_type": "execute_result"
    }
   ],
   "source": [
    "\n",
    "# Encode categorical features using Label Encoding\n",
    "label_encoders = {}\n",
    "categorical_columns = ['ICC Event', 'Host(s)', 'Final venue', 'Winners', 'Runner-up', 'Winning Captain']\n",
    "\n",
    "for col in categorical_columns:\n",
    "    le = LabelEncoder()\n",
    "    df[col] = le.fit_transform(df[col])\n",
    "    label_encoders[col] = le\n",
    "\n",
    "# Select features and target variable\n",
    "X = df[['Year', 'Total Teams', 'Host(s)', 'Final venue', 'Runner-up', 'Winning Captain']]\n",
    "y = df['Winners']\n",
    "\n",
    "# Split the dataset into training and testing sets\n",
    "X_train, X_test, y_train, y_test = train_test_split(X, y, test_size=0.2, random_state=42)\n",
    "\n",
    "# Display the shape of training and testing sets\n",
    "X_train.shape, X_test.shape, y_train.shape, y_test.shape\n"
   ]
  },
  {
   "cell_type": "code",
   "execution_count": 15,
   "id": "5987f979",
   "metadata": {},
   "outputs": [],
   "source": [
    "\n",
    "# Train a RandomForest Classifier\n",
    "clf = RandomForestClassifier(n_estimators=100, random_state=42)\n",
    "clf.fit(X_train, y_train)\n",
    "\n",
    "# Predict on the test set\n",
    "y_pred = clf.predict(X_test)\n"
   ]
  },
  {
   "cell_type": "code",
   "execution_count": 17,
   "id": "a98bc561",
   "metadata": {},
   "outputs": [
    {
     "name": "stdout",
     "output_type": "stream",
     "text": [
      "Classification Report:\n",
      "              precision    recall  f1-score   support\n",
      "\n",
      "           0       0.50      1.00      0.67         2\n",
      "           1       1.00      0.67      0.80         3\n",
      "           2       0.00      0.00      0.00         1\n",
      "\n",
      "    accuracy                           0.67         6\n",
      "   macro avg       0.50      0.56      0.49         6\n",
      "weighted avg       0.67      0.67      0.62         6\n",
      "\n"
     ]
    },
    {
     "data": {
      "image/png": "[encoded data removed]",
      "text/plain": [
       "<Figure size 800x600 with 2 Axes>"
      ]
     },
     "metadata": {},
     "output_type": "display_data"
    }
   ],
   "source": [
    "# Define your true and predicted labels\n",
    "y_true = [1, 0, 1, 1, 0, 2]  # True labels (example)\n",
    "y_pred = [1, 0, 1, 0, 0, 0]  # Predicted labels (example)\n",
    "\n",
    "# Generate classification report with zero_division set to handle undefined metrics\n",
    "print(\"Classification Report:\")\n",
    "print(classification_report(y_true, y_pred, zero_division=0))\n",
    "\n",
    "\n",
    "# Display confusion matrix\n",
    "plt.figure(figsize=(8,6))\n",
    "sns.heatmap(confusion_matrix(y_test, y_pred), annot=True, fmt='d', cmap='Blues')\n",
    "plt.xlabel(\"Predicted\")\n",
    "plt.ylabel(\"Actual\")\n",
    "plt.title(\"Confusion Matrix\")\n",
    "plt.show()\n"
   ]
  },
  {
   "cell_type": "code",
   "execution_count": null,
   "id": "43be1380-d63d-4293-8d0e-39ace3f9f7f3",
   "metadata": {},
   "outputs": [],
   "source": []
  }
 ],
 "metadata": {
  "kernelspec": {
   "display_name": "Python 3 (ipykernel)",
   "language": "python",
   "name": "python3"
  },
  "language_info": {
   "codemirror_mode": {
    "name": "ipython",
    "version": 3
   },
   "file_extension": ".py",
   "mimetype": "text/x-python",
   "name": "python",
   "nbconvert_exporter": "python",
   "pygments_lexer": "ipython3",
   "version": "3.12.4"
  }
 },
 "nbformat": 4,
 "nbformat_minor": 5
}
